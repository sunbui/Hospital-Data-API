{
 "cells": [
  {
   "cell_type": "code",
   "execution_count": 1,
   "id": "39d2dcae-ea06-4cf6-8cf7-a43d341cc92d",
   "metadata": {},
   "outputs": [],
   "source": [
    "\n",
    "import pandas as pd \n",
    "import statistics\n",
    "import seaborn as sns\n",
    "import numpy as np #for summary statistics \n",
    "import matplotlib.pyplot as plt #for plotting \n",
    "from scipy.stats import ttest_ind #for statistical significance tests \n",
    "from scipy.stats import sem # for standard error\n"
   ]
  },
  {
   "cell_type": "code",
   "execution_count": 2,
   "id": "de88bd0b-f8c2-4211-809e-1fdc2a311d47",
   "metadata": {},
   "outputs": [
    {
     "name": "stderr",
     "output_type": "stream",
     "text": [
      "/shared/centos7/anaconda3/CPS-10-2021/envs/CPS_10_2021/lib/python3.7/site-packages/IPython/core/interactiveshell.py:3186: DtypeWarning: Columns (68) have mixed types.Specify dtype option on import or set low_memory=False.\n",
      "  interactivity=interactivity, compiler=compiler, result=result)\n"
     ]
    },
    {
     "data": {
      "text/html": [
       "<div>\n",
       "<style scoped>\n",
       "    .dataframe tbody tr th:only-of-type {\n",
       "        vertical-align: middle;\n",
       "    }\n",
       "\n",
       "    .dataframe tbody tr th {\n",
       "        vertical-align: top;\n",
       "    }\n",
       "\n",
       "    .dataframe thead th {\n",
       "        text-align: right;\n",
       "    }\n",
       "</style>\n",
       "<table border=\"1\" class=\"dataframe\">\n",
       "  <thead>\n",
       "    <tr style=\"text-align: right;\">\n",
       "      <th></th>\n",
       "      <th>Unnamed: 0</th>\n",
       "      <th>hospital_data_id</th>\n",
       "      <th>fiscal_yr</th>\n",
       "      <th>data_ein</th>\n",
       "      <th>data_name</th>\n",
       "      <th>form_990_filed_part_grp_ret_f</th>\n",
       "      <th>form_990_num_fac_oper</th>\n",
       "      <th>form_990_name</th>\n",
       "      <th>form_990_address</th>\n",
       "      <th>form_990_city</th>\n",
       "      <th>...</th>\n",
       "      <th>pctttlexp_econdevlp</th>\n",
       "      <th>pctttlexp_cmntysuprt</th>\n",
       "      <th>pctttlexp_envrnimprv</th>\n",
       "      <th>pctttlexp_ldrdevlp</th>\n",
       "      <th>pctttlexp_cltnbldg</th>\n",
       "      <th>pctttlexp_htlhimprvadvcy</th>\n",
       "      <th>pctttlexp_wrkfrcdevlp</th>\n",
       "      <th>pctttlexp_other</th>\n",
       "      <th>pctttlexp_total</th>\n",
       "      <th>updated_dt</th>\n",
       "    </tr>\n",
       "  </thead>\n",
       "  <tbody>\n",
       "    <tr>\n",
       "      <th>0</th>\n",
       "      <td>0</td>\n",
       "      <td>1</td>\n",
       "      <td>2010</td>\n",
       "      <td>630307951</td>\n",
       "      <td>Mizell Memorial Hospital</td>\n",
       "      <td>N</td>\n",
       "      <td>1</td>\n",
       "      <td>Mizell Memorial Hospital</td>\n",
       "      <td>702 N Main Street</td>\n",
       "      <td>Opp</td>\n",
       "      <td>...</td>\n",
       "      <td>0.0</td>\n",
       "      <td>0.0</td>\n",
       "      <td>0.0</td>\n",
       "      <td>0.0</td>\n",
       "      <td>0.0</td>\n",
       "      <td>0.0</td>\n",
       "      <td>0.0000</td>\n",
       "      <td>0.0</td>\n",
       "      <td>0.0000</td>\n",
       "      <td>October 7, 2022</td>\n",
       "    </tr>\n",
       "    <tr>\n",
       "      <th>1</th>\n",
       "      <td>1</td>\n",
       "      <td>2</td>\n",
       "      <td>2011</td>\n",
       "      <td>630307951</td>\n",
       "      <td>Mizell Memorial Hospital</td>\n",
       "      <td>N</td>\n",
       "      <td>1</td>\n",
       "      <td>Mizell Memorial Hospital</td>\n",
       "      <td>702 N Main Street</td>\n",
       "      <td>Opp</td>\n",
       "      <td>...</td>\n",
       "      <td>0.0</td>\n",
       "      <td>0.0</td>\n",
       "      <td>0.0</td>\n",
       "      <td>0.0</td>\n",
       "      <td>0.0</td>\n",
       "      <td>0.0</td>\n",
       "      <td>0.0000</td>\n",
       "      <td>0.0</td>\n",
       "      <td>0.0000</td>\n",
       "      <td>October 7, 2022</td>\n",
       "    </tr>\n",
       "    <tr>\n",
       "      <th>2</th>\n",
       "      <td>2</td>\n",
       "      <td>3</td>\n",
       "      <td>2012</td>\n",
       "      <td>630307951</td>\n",
       "      <td>Mizell Memorial Hospital</td>\n",
       "      <td>N</td>\n",
       "      <td>1</td>\n",
       "      <td>Mizell Memorial Hospital</td>\n",
       "      <td>702 N Main Street</td>\n",
       "      <td>Opp</td>\n",
       "      <td>...</td>\n",
       "      <td>0.0</td>\n",
       "      <td>0.0</td>\n",
       "      <td>0.0</td>\n",
       "      <td>0.0</td>\n",
       "      <td>0.0</td>\n",
       "      <td>0.0</td>\n",
       "      <td>0.0000</td>\n",
       "      <td>0.0</td>\n",
       "      <td>0.0000</td>\n",
       "      <td>October 7, 2022</td>\n",
       "    </tr>\n",
       "    <tr>\n",
       "      <th>3</th>\n",
       "      <td>3</td>\n",
       "      <td>4</td>\n",
       "      <td>2013</td>\n",
       "      <td>630307951</td>\n",
       "      <td>Mizell Memorial Hospital</td>\n",
       "      <td>N</td>\n",
       "      <td>1</td>\n",
       "      <td>Mizell Memorial Hospital</td>\n",
       "      <td>702 N Main Street</td>\n",
       "      <td>Opp</td>\n",
       "      <td>...</td>\n",
       "      <td>0.0</td>\n",
       "      <td>0.0</td>\n",
       "      <td>0.0</td>\n",
       "      <td>0.0</td>\n",
       "      <td>0.0</td>\n",
       "      <td>0.0</td>\n",
       "      <td>0.0000</td>\n",
       "      <td>0.0</td>\n",
       "      <td>0.0000</td>\n",
       "      <td>October 7, 2022</td>\n",
       "    </tr>\n",
       "    <tr>\n",
       "      <th>4</th>\n",
       "      <td>4</td>\n",
       "      <td>5</td>\n",
       "      <td>2014</td>\n",
       "      <td>630307951</td>\n",
       "      <td>Mizell Memorial Hospital</td>\n",
       "      <td>N</td>\n",
       "      <td>1</td>\n",
       "      <td>Mizell Memorial Hospital</td>\n",
       "      <td>702 North Main Street</td>\n",
       "      <td>Opp</td>\n",
       "      <td>...</td>\n",
       "      <td>0.0</td>\n",
       "      <td>0.0</td>\n",
       "      <td>0.0</td>\n",
       "      <td>0.0</td>\n",
       "      <td>0.0</td>\n",
       "      <td>0.0</td>\n",
       "      <td>0.0000</td>\n",
       "      <td>0.0</td>\n",
       "      <td>0.0000</td>\n",
       "      <td>October 7, 2022</td>\n",
       "    </tr>\n",
       "    <tr>\n",
       "      <th>...</th>\n",
       "      <td>...</td>\n",
       "      <td>...</td>\n",
       "      <td>...</td>\n",
       "      <td>...</td>\n",
       "      <td>...</td>\n",
       "      <td>...</td>\n",
       "      <td>...</td>\n",
       "      <td>...</td>\n",
       "      <td>...</td>\n",
       "      <td>...</td>\n",
       "      <td>...</td>\n",
       "      <td>...</td>\n",
       "      <td>...</td>\n",
       "      <td>...</td>\n",
       "      <td>...</td>\n",
       "      <td>...</td>\n",
       "      <td>...</td>\n",
       "      <td>...</td>\n",
       "      <td>...</td>\n",
       "      <td>...</td>\n",
       "      <td>...</td>\n",
       "    </tr>\n",
       "    <tr>\n",
       "      <th>29121</th>\n",
       "      <td>5</td>\n",
       "      <td>29782</td>\n",
       "      <td>2015</td>\n",
       "      <td>830300467</td>\n",
       "      <td>Powell Valley Hospital</td>\n",
       "      <td>N</td>\n",
       "      <td>1</td>\n",
       "      <td>Powell Valley Health Care Inc</td>\n",
       "      <td>777 Avenue H</td>\n",
       "      <td>Powell</td>\n",
       "      <td>...</td>\n",
       "      <td>0.0</td>\n",
       "      <td>0.0</td>\n",
       "      <td>0.0</td>\n",
       "      <td>0.0</td>\n",
       "      <td>0.0</td>\n",
       "      <td>0.0</td>\n",
       "      <td>0.0000</td>\n",
       "      <td>0.0</td>\n",
       "      <td>0.0000</td>\n",
       "      <td>October 7, 2022</td>\n",
       "    </tr>\n",
       "    <tr>\n",
       "      <th>29122</th>\n",
       "      <td>6</td>\n",
       "      <td>29783</td>\n",
       "      <td>2016</td>\n",
       "      <td>830300467</td>\n",
       "      <td>Powell Valley Health Care</td>\n",
       "      <td>N</td>\n",
       "      <td>1</td>\n",
       "      <td>Powell Valley Health Care Inc</td>\n",
       "      <td>777 Avenue H</td>\n",
       "      <td>Powell</td>\n",
       "      <td>...</td>\n",
       "      <td>0.0</td>\n",
       "      <td>0.0</td>\n",
       "      <td>0.0</td>\n",
       "      <td>0.0</td>\n",
       "      <td>0.0</td>\n",
       "      <td>0.0</td>\n",
       "      <td>0.0000</td>\n",
       "      <td>0.0</td>\n",
       "      <td>0.0000</td>\n",
       "      <td>October 7, 2022</td>\n",
       "    </tr>\n",
       "    <tr>\n",
       "      <th>29123</th>\n",
       "      <td>7</td>\n",
       "      <td>29784</td>\n",
       "      <td>2017</td>\n",
       "      <td>830300467</td>\n",
       "      <td>Powell Valley Health Care</td>\n",
       "      <td>N</td>\n",
       "      <td>1</td>\n",
       "      <td>Powell Valley Health Care Inc</td>\n",
       "      <td>777 Avenue H</td>\n",
       "      <td>Powell</td>\n",
       "      <td>...</td>\n",
       "      <td>0.0</td>\n",
       "      <td>0.0</td>\n",
       "      <td>0.0</td>\n",
       "      <td>0.0</td>\n",
       "      <td>0.0</td>\n",
       "      <td>0.0</td>\n",
       "      <td>0.0000</td>\n",
       "      <td>0.0</td>\n",
       "      <td>0.0000</td>\n",
       "      <td>October 7, 2022</td>\n",
       "    </tr>\n",
       "    <tr>\n",
       "      <th>29124</th>\n",
       "      <td>8</td>\n",
       "      <td>29785</td>\n",
       "      <td>2018</td>\n",
       "      <td>830300467</td>\n",
       "      <td>Powell Valley Health Care</td>\n",
       "      <td>N</td>\n",
       "      <td>1</td>\n",
       "      <td>Powell Valley Health Care Inc</td>\n",
       "      <td>777 Avenue H</td>\n",
       "      <td>Powell</td>\n",
       "      <td>...</td>\n",
       "      <td>0.0</td>\n",
       "      <td>0.0</td>\n",
       "      <td>0.0</td>\n",
       "      <td>0.0</td>\n",
       "      <td>0.0</td>\n",
       "      <td>0.0</td>\n",
       "      <td>0.0000</td>\n",
       "      <td>0.0</td>\n",
       "      <td>0.0000</td>\n",
       "      <td>October 7, 2022</td>\n",
       "    </tr>\n",
       "    <tr>\n",
       "      <th>29125</th>\n",
       "      <td>9</td>\n",
       "      <td>29786</td>\n",
       "      <td>2019</td>\n",
       "      <td>830300467</td>\n",
       "      <td>Powell Valley Health Care</td>\n",
       "      <td>N</td>\n",
       "      <td>1</td>\n",
       "      <td>Powell Valley Health Care Inc</td>\n",
       "      <td>777 Avenue H</td>\n",
       "      <td>Powell</td>\n",
       "      <td>...</td>\n",
       "      <td>0.0</td>\n",
       "      <td>0.0</td>\n",
       "      <td>0.0</td>\n",
       "      <td>0.0</td>\n",
       "      <td>0.0</td>\n",
       "      <td>0.0</td>\n",
       "      <td>0.0009</td>\n",
       "      <td>0.0</td>\n",
       "      <td>0.0009</td>\n",
       "      <td>October 7, 2022</td>\n",
       "    </tr>\n",
       "  </tbody>\n",
       "</table>\n",
       "<p>29126 rows × 143 columns</p>\n",
       "</div>"
      ],
      "text/plain": [
       "       Unnamed: 0  hospital_data_id  fiscal_yr   data_ein  \\\n",
       "0               0                 1       2010  630307951   \n",
       "1               1                 2       2011  630307951   \n",
       "2               2                 3       2012  630307951   \n",
       "3               3                 4       2013  630307951   \n",
       "4               4                 5       2014  630307951   \n",
       "...           ...               ...        ...        ...   \n",
       "29121           5             29782       2015  830300467   \n",
       "29122           6             29783       2016  830300467   \n",
       "29123           7             29784       2017  830300467   \n",
       "29124           8             29785       2018  830300467   \n",
       "29125           9             29786       2019  830300467   \n",
       "\n",
       "                       data_name form_990_filed_part_grp_ret_f  \\\n",
       "0       Mizell Memorial Hospital                             N   \n",
       "1       Mizell Memorial Hospital                             N   \n",
       "2       Mizell Memorial Hospital                             N   \n",
       "3       Mizell Memorial Hospital                             N   \n",
       "4       Mizell Memorial Hospital                             N   \n",
       "...                          ...                           ...   \n",
       "29121     Powell Valley Hospital                             N   \n",
       "29122  Powell Valley Health Care                             N   \n",
       "29123  Powell Valley Health Care                             N   \n",
       "29124  Powell Valley Health Care                             N   \n",
       "29125  Powell Valley Health Care                             N   \n",
       "\n",
       "       form_990_num_fac_oper                  form_990_name  \\\n",
       "0                          1       Mizell Memorial Hospital   \n",
       "1                          1       Mizell Memorial Hospital   \n",
       "2                          1       Mizell Memorial Hospital   \n",
       "3                          1       Mizell Memorial Hospital   \n",
       "4                          1       Mizell Memorial Hospital   \n",
       "...                      ...                            ...   \n",
       "29121                      1  Powell Valley Health Care Inc   \n",
       "29122                      1  Powell Valley Health Care Inc   \n",
       "29123                      1  Powell Valley Health Care Inc   \n",
       "29124                      1  Powell Valley Health Care Inc   \n",
       "29125                      1  Powell Valley Health Care Inc   \n",
       "\n",
       "            form_990_address form_990_city  ... pctttlexp_econdevlp  \\\n",
       "0          702 N Main Street           Opp  ...                 0.0   \n",
       "1          702 N Main Street           Opp  ...                 0.0   \n",
       "2          702 N Main Street           Opp  ...                 0.0   \n",
       "3          702 N Main Street           Opp  ...                 0.0   \n",
       "4      702 North Main Street           Opp  ...                 0.0   \n",
       "...                      ...           ...  ...                 ...   \n",
       "29121           777 Avenue H        Powell  ...                 0.0   \n",
       "29122           777 Avenue H        Powell  ...                 0.0   \n",
       "29123           777 Avenue H        Powell  ...                 0.0   \n",
       "29124           777 Avenue H        Powell  ...                 0.0   \n",
       "29125           777 Avenue H        Powell  ...                 0.0   \n",
       "\n",
       "       pctttlexp_cmntysuprt  pctttlexp_envrnimprv  pctttlexp_ldrdevlp  \\\n",
       "0                       0.0                   0.0                 0.0   \n",
       "1                       0.0                   0.0                 0.0   \n",
       "2                       0.0                   0.0                 0.0   \n",
       "3                       0.0                   0.0                 0.0   \n",
       "4                       0.0                   0.0                 0.0   \n",
       "...                     ...                   ...                 ...   \n",
       "29121                   0.0                   0.0                 0.0   \n",
       "29122                   0.0                   0.0                 0.0   \n",
       "29123                   0.0                   0.0                 0.0   \n",
       "29124                   0.0                   0.0                 0.0   \n",
       "29125                   0.0                   0.0                 0.0   \n",
       "\n",
       "       pctttlexp_cltnbldg  pctttlexp_htlhimprvadvcy  pctttlexp_wrkfrcdevlp  \\\n",
       "0                     0.0                       0.0                 0.0000   \n",
       "1                     0.0                       0.0                 0.0000   \n",
       "2                     0.0                       0.0                 0.0000   \n",
       "3                     0.0                       0.0                 0.0000   \n",
       "4                     0.0                       0.0                 0.0000   \n",
       "...                   ...                       ...                    ...   \n",
       "29121                 0.0                       0.0                 0.0000   \n",
       "29122                 0.0                       0.0                 0.0000   \n",
       "29123                 0.0                       0.0                 0.0000   \n",
       "29124                 0.0                       0.0                 0.0000   \n",
       "29125                 0.0                       0.0                 0.0009   \n",
       "\n",
       "       pctttlexp_other  pctttlexp_total       updated_dt  \n",
       "0                  0.0           0.0000  October 7, 2022  \n",
       "1                  0.0           0.0000  October 7, 2022  \n",
       "2                  0.0           0.0000  October 7, 2022  \n",
       "3                  0.0           0.0000  October 7, 2022  \n",
       "4                  0.0           0.0000  October 7, 2022  \n",
       "...                ...              ...              ...  \n",
       "29121              0.0           0.0000  October 7, 2022  \n",
       "29122              0.0           0.0000  October 7, 2022  \n",
       "29123              0.0           0.0000  October 7, 2022  \n",
       "29124              0.0           0.0000  October 7, 2022  \n",
       "29125              0.0           0.0009  October 7, 2022  \n",
       "\n",
       "[29126 rows x 143 columns]"
      ]
     },
     "execution_count": 2,
     "metadata": {},
     "output_type": "execute_result"
    }
   ],
   "source": [
    "## Load the data\n",
    "\n",
    "Data1 = pd.read_csv('StateHospAllUSA.csv')\n",
    "Data1\n",
    "\n",
    "Data2 =pd.read_csv('USHospitalData.csv')\n",
    "Data2\n"
   ]
  },
  {
   "cell_type": "code",
   "execution_count": 3,
   "id": "d0155485-ac21-4c34-a010-aa7e3e2da354",
   "metadata": {},
   "outputs": [],
   "source": [
    "dfJoin = Data1.merge(Data2, how='inner', left_on='ein', right_on='data_ein')"
   ]
  },
  {
   "cell_type": "markdown",
   "id": "5f2cdd9b-e581-4a13-a02c-143aafcf8869",
   "metadata": {
    "tags": []
   },
   "source": [
    "### Question 1: Is there a relation between community building spending within rural & urban location (t-test) between NY and ME? \n"
   ]
  },
  {
   "cell_type": "code",
   "execution_count": 4,
   "id": "4bfa314c-1b96-4e81-879e-bfb8ae5e1457",
   "metadata": {},
   "outputs": [],
   "source": [
    "\n",
    "values= ['NY']\n",
    "dfJoin_NY = dfJoin[dfJoin['state'].isin(values)]\n",
    "\n",
    "values= ['ME']\n",
    "dfJoin_ME = dfJoin[dfJoin['state'].isin(values)]\n",
    "\n",
    "# T test: \"comm_bldg_actvs\" community bld\n",
    "\n",
    "comm_bldg_actvs_ME=dfJoin_ME['comm_bldg_actvs']\n",
    "comm_bldg_actvs_NY=dfJoin_NY['comm_bldg_actvs']"
   ]
  },
  {
   "cell_type": "code",
   "execution_count": 66,
   "id": "a7776468-2fe3-4e4b-899d-6373638e8cc8",
   "metadata": {},
   "outputs": [
    {
     "name": "stdout",
     "output_type": "stream",
     "text": [
      "\n",
      " Significance Test:\n",
      "\n",
      "Ttest_indResult(statistic=-2.354495436383824, pvalue=0.018629311891835552)\n"
     ]
    }
   ],
   "source": [
    "res = ttest_ind(comm_bldg_actvs_ME, comm_bldg_actvs_NY)\n",
    "print(f'\\n Significance Test:\\n')\n",
    "print(res)"
   ]
  },
  {
   "cell_type": "markdown",
   "id": "c059fb72-c70d-4330-806f-47edf3a031c5",
   "metadata": {},
   "source": [
    "Null hypothesis (H_0): There is no difference in Community building activities between states ME and NY. \n",
    "The P-value for this describes that how likely you are to have found  this if the nulll hypothesis were true. So, P values used in hypothesis testing to help decide whether to reject the null hypothesis.\n",
    "The smaller P-value (less than sigificance level) the more likely you are to reject the null hypothesis, and accept the alternative hypthesis. \n",
    "As we can see the  p value for this test is significant(statistic=-2.354495436383824, pvalue=0.018629311891835552), < 0.05 which means that we reject the null hypothesis and accept the alternative hypothesis"
   ]
  },
  {
   "cell_type": "markdown",
   "id": "27c418f5-cbe7-421a-8b3e-21a4b31739fd",
   "metadata": {},
   "source": [
    "### Question 2: What are the range and average spending by the hospital on each community benefit, community building, and community health improvement advocacy activities? Test for statistical significance between each one of those measures among ME  and NY (total and by location: rural & urban)"
   ]
  },
  {
   "cell_type": "code",
   "execution_count": 6,
   "id": "639dbc80-bca1-4aaf-aa88-636a493e6e95",
   "metadata": {},
   "outputs": [
    {
     "data": {
      "text/html": [
       "<div>\n",
       "<style scoped>\n",
       "    .dataframe tbody tr th:only-of-type {\n",
       "        vertical-align: middle;\n",
       "    }\n",
       "\n",
       "    .dataframe tbody tr th {\n",
       "        vertical-align: top;\n",
       "    }\n",
       "\n",
       "    .dataframe thead th {\n",
       "        text-align: right;\n",
       "    }\n",
       "</style>\n",
       "<table border=\"1\" class=\"dataframe\">\n",
       "  <thead>\n",
       "    <tr style=\"text-align: right;\">\n",
       "      <th></th>\n",
       "      <th>tot_comm_bnfts</th>\n",
       "      <th>comm_bldg_actvs</th>\n",
       "      <th>comm_bldg_actvs_htlhimprvadvcy</th>\n",
       "    </tr>\n",
       "  </thead>\n",
       "  <tbody>\n",
       "    <tr>\n",
       "      <th>count</th>\n",
       "      <td>2.364000e+03</td>\n",
       "      <td>2.364000e+03</td>\n",
       "      <td>2.364000e+03</td>\n",
       "    </tr>\n",
       "    <tr>\n",
       "      <th>mean</th>\n",
       "      <td>6.444693e+07</td>\n",
       "      <td>1.587689e+05</td>\n",
       "      <td>3.356654e+04</td>\n",
       "    </tr>\n",
       "    <tr>\n",
       "      <th>std</th>\n",
       "      <td>1.168738e+08</td>\n",
       "      <td>3.997343e+05</td>\n",
       "      <td>1.436165e+05</td>\n",
       "    </tr>\n",
       "    <tr>\n",
       "      <th>min</th>\n",
       "      <td>-2.293448e+07</td>\n",
       "      <td>0.000000e+00</td>\n",
       "      <td>0.000000e+00</td>\n",
       "    </tr>\n",
       "    <tr>\n",
       "      <th>25%</th>\n",
       "      <td>5.246018e+06</td>\n",
       "      <td>0.000000e+00</td>\n",
       "      <td>0.000000e+00</td>\n",
       "    </tr>\n",
       "    <tr>\n",
       "      <th>50%</th>\n",
       "      <td>1.641713e+07</td>\n",
       "      <td>0.000000e+00</td>\n",
       "      <td>0.000000e+00</td>\n",
       "    </tr>\n",
       "    <tr>\n",
       "      <th>75%</th>\n",
       "      <td>6.336856e+07</td>\n",
       "      <td>9.342600e+04</td>\n",
       "      <td>0.000000e+00</td>\n",
       "    </tr>\n",
       "    <tr>\n",
       "      <th>max</th>\n",
       "      <td>1.059075e+09</td>\n",
       "      <td>3.814145e+06</td>\n",
       "      <td>2.055502e+06</td>\n",
       "    </tr>\n",
       "  </tbody>\n",
       "</table>\n",
       "</div>"
      ],
      "text/plain": [
       "       tot_comm_bnfts  comm_bldg_actvs  comm_bldg_actvs_htlhimprvadvcy\n",
       "count    2.364000e+03     2.364000e+03                    2.364000e+03\n",
       "mean     6.444693e+07     1.587689e+05                    3.356654e+04\n",
       "std      1.168738e+08     3.997343e+05                    1.436165e+05\n",
       "min     -2.293448e+07     0.000000e+00                    0.000000e+00\n",
       "25%      5.246018e+06     0.000000e+00                    0.000000e+00\n",
       "50%      1.641713e+07     0.000000e+00                    0.000000e+00\n",
       "75%      6.336856e+07     9.342600e+04                    0.000000e+00\n",
       "max      1.059075e+09     3.814145e+06                    2.055502e+06"
      ]
     },
     "execution_count": 6,
     "metadata": {},
     "output_type": "execute_result"
    }
   ],
   "source": [
    "values= ['NY','ME']\n",
    "dfJoin_New = dfJoin[dfJoin['state'].isin(values)]\n",
    "statistical = dfJoin_New[['state','tot_comm_bnfts','comm_bldg_actvs','comm_bldg_actvs_htlhimprvadvcy']]\n",
    "#print(statistical.groupby('state').var()\n",
    "statistical.describe()"
   ]
  },
  {
   "cell_type": "markdown",
   "id": "8ae3c5a5-3b71-45a6-bd0b-990e6adc0fd7",
   "metadata": {
    "tags": []
   },
   "source": [
    "Get the range and average spending:\n",
    "\n",
    "Total Community Benefit: \n",
    "Min: -2.293448e+07 \n",
    "Max: 1.059075e+09\n",
    "\n",
    "Community building activities:\n",
    "Min: 0.000000e+00\n",
    "Max: 3.814145e+06\n",
    "\n",
    "Community health improvement advocacy:\n",
    "Min: 0.000000e+00\n",
    "Max: 2.055502e+06"
   ]
  },
  {
   "cell_type": "code",
   "execution_count": 7,
   "id": "f93c91f1-8336-4859-af87-ca609d3358ae",
   "metadata": {},
   "outputs": [],
   "source": [
    "# Test for statistical siginficance of each of these for both states:\n",
    "\n",
    "values= ['ME']\n",
    "dfJoin_ME = dfJoin_New[dfJoin_New['state'].isin(values)]\n",
    "values= ['NY']\n",
    "dfJoin_NY = dfJoin_New[dfJoin_New['state'].isin(values)]\n",
    "\n",
    "#\n",
    "values= ['Y']\n",
    "dfJoin_NY_Urban = dfJoin_NY[dfJoin_NY['urban_location_f'].isin(values)]\n",
    "dfJoin_ME_Urban = dfJoin_ME[dfJoin_ME['urban_location_f'].isin(values)]\n",
    "#\n",
    "values= ['N']\n",
    "dfJoin_NY_Rural= dfJoin_NY[dfJoin_NY['urban_location_f'].isin(values)]\n",
    "dfJoin_ME_Rural = dfJoin_ME[dfJoin_ME['urban_location_f'].isin(values)]"
   ]
  },
  {
   "cell_type": "code",
   "execution_count": 67,
   "id": "512287b0-b1ee-4363-9b25-0a8606f44fd3",
   "metadata": {},
   "outputs": [
    {
     "name": "stdout",
     "output_type": "stream",
     "text": [
      "\n",
      " Significance Test:\n",
      "\n",
      "Ttest_indResult(statistic=-2.354495436383824, pvalue=0.018629311891835552)\n"
     ]
    }
   ],
   "source": [
    "comm_bldg_actvs_ME=dfJoin_ME['comm_bldg_actvs']\n",
    "comm_bldg_actvs_NY=dfJoin_NY['comm_bldg_actvs']\n",
    "\n",
    "res2 = ttest_ind(comm_bldg_actvs_ME, comm_bldg_actvs_NY)\n",
    "print(f'\\n Significance Test:\\n')\n",
    "print(res2)"
   ]
  },
  {
   "cell_type": "markdown",
   "id": "e49f1c97-1ead-4e17-9ce3-494d05b94440",
   "metadata": {},
   "source": [
    "Null hypothesis (H_0): There is no difference in Community building activities between states ME and NY.\n",
    "As we can see the  p value for this test is significant(statistic=-2.354495436383824, pvalue=0.018629311891835552),\n",
    "which means that we reject the null hypothesis and accept the alternative hypothesis "
   ]
  },
  {
   "cell_type": "code",
   "execution_count": 142,
   "id": "ba610512-0b93-458c-870a-ebc10e5f9bcb",
   "metadata": {},
   "outputs": [
    {
     "name": "stdout",
     "output_type": "stream",
     "text": [
      "\n",
      " Significance Test:\n",
      "\n",
      "Ttest_indResult(statistic=-0.5731014467328475, pvalue=0.566646767227916)\n"
     ]
    }
   ],
   "source": [
    "## compare between urban vs urban, rural vs. rural \n",
    "\n",
    "comm_bldg_actvs_ME_Urban=dfJoin_ME_Urban['comm_bldg_actvs']\n",
    "comm_bldg_actvs_NY_Urban=dfJoin_NY_Urban['comm_bldg_actvs']\n",
    "\n",
    "res3 = ttest_ind(comm_bldg_actvs_ME_Urban, comm_bldg_actvs_NY_Urban)\n",
    "print(f'\\n Significance Test:\\n')\n",
    "print(res3)"
   ]
  },
  {
   "cell_type": "markdown",
   "id": "5b9254f7-ee7a-4b61-a827-9bc00bc93be5",
   "metadata": {},
   "source": [
    "Null hypothesis (H_0): There is no difference in Community building activities between states ME and NY. \n",
    "As we can see the  p value for this test is not significant(statistic=-0.5731014467328475, pvalue=0.566646767227916), which means that we dont reject the null hypothesis "
   ]
  },
  {
   "cell_type": "code",
   "execution_count": 69,
   "id": "2b547775-cc3d-44f2-8e75-95aec769e9d2",
   "metadata": {},
   "outputs": [
    {
     "name": "stdout",
     "output_type": "stream",
     "text": [
      "\n",
      " Significance Test:\n",
      "\n",
      "Ttest_indResult(statistic=-0.8375210223465105, pvalue=0.40267096868816044)\n"
     ]
    }
   ],
   "source": [
    "## compare between urban vs urban, rural vs. rural  \n",
    "\n",
    "comm_bldg_actvs_ME_Rural=dfJoin_ME_Rural['comm_bldg_actvs']\n",
    "comm_bldg_actvs_NY_Rural=dfJoin_NY_Rural['comm_bldg_actvs']\n",
    "\n",
    "res4 = ttest_ind(comm_bldg_actvs_ME_Rural, comm_bldg_actvs_NY_Rural)\n",
    "print(f'\\n Significance Test:\\n')\n",
    "print(res4)\n"
   ]
  },
  {
   "cell_type": "markdown",
   "id": "8cd8ef3e-42eb-480f-9536-7f0dd9d16984",
   "metadata": {},
   "source": [
    "Null hypothesis (H_0): There is no difference in Community building activities between states ME and NY. \n",
    "As we can see the  p value for this test is not significant(statistic=-0.8375210223465105, pvalue=0.40267096868816044), which means that we don't reject the null hypothesis"
   ]
  },
  {
   "cell_type": "code",
   "execution_count": 13,
   "id": "ee624e7b-38ca-43f3-8ae6-10eb69d323ef",
   "metadata": {},
   "outputs": [
    {
     "name": "stdout",
     "output_type": "stream",
     "text": [
      "\n",
      " Significance Test:\n",
      "\n",
      "Ttest_indResult(statistic=0.5504249646114053, pvalue=0.5820799787752249)\n"
     ]
    }
   ],
   "source": [
    "comm_bldg_actvs_htlhimprvadvcy_ME=dfJoin_ME['comm_bldg_actvs_htlhimprvadvcy']\n",
    "comm_bldg_actvs_htlhimprvadvcy_NY=dfJoin_NY['comm_bldg_actvs_htlhimprvadvcy']\n",
    "\n",
    "res5 = ttest_ind(comm_bldg_actvs_htlhimprvadvcy_ME, comm_bldg_actvs_htlhimprvadvcy_NY)\n",
    "print(f'\\n Significance Test:\\n')\n",
    "print(res5)"
   ]
  },
  {
   "cell_type": "markdown",
   "id": "6e66ce55-0a2d-4feb-902d-c59c04567d0f",
   "metadata": {},
   "source": [
    "Null hypothesis (H_0): There is no difference in Community health improvement advocacy  between states ME and NY. \n",
    "As we can see the  p value for this test is NOT SIGNIFICANT(statistic=0.5504249646114053, pvalue=0.5820799787752249), which means that we not reject the null hypothesis\n",
    "because the diference in the means is by chance"
   ]
  },
  {
   "cell_type": "code",
   "execution_count": 145,
   "id": "aeb92c72-8ca6-4afc-bd7f-00c305d2ad1f",
   "metadata": {},
   "outputs": [
    {
     "name": "stdout",
     "output_type": "stream",
     "text": [
      "\n",
      " Significance Test:\n",
      "\n",
      "Ttest_indResult(statistic=4.291982060604571, pvalue=2.0997921160461246e-05)\n"
     ]
    }
   ],
   "source": [
    "comm_bldg_actvs_htlhimprvadvcy_ME_Rural=dfJoin_ME_Rural['comm_bldg_actvs_htlhimprvadvcy'] \n",
    "comm_bldg_actvs_htlhimprvadvcy_NY_Rural=dfJoin_NY_Rural['comm_bldg_actvs_htlhimprvadvcy']\n",
    "\n",
    "res6 = ttest_ind(comm_bldg_actvs_htlhimprvadvcy_ME_Rural, comm_bldg_actvs_htlhimprvadvcy_NY_Rural)\n",
    "print(f'\\n Significance Test:\\n')\n",
    "print(res6)"
   ]
  },
  {
   "cell_type": "markdown",
   "id": "f4e8c3ee-019a-421a-b314-f8c5b2e0c58c",
   "metadata": {},
   "source": [
    "Null hypothesis (H_0): There is no difference in Community health improvement advocacy  between states ME and NY. As we can see the  p value for this test is  SIGNIFICANT(statistic=4.291982060604571, pvalue=2.0997921160461246e-05), which means that we reject the null hypothesis and accept the alternative hypothesis"
   ]
  },
  {
   "cell_type": "code",
   "execution_count": 16,
   "id": "0b20284b-4185-47df-9896-8da8314268b9",
   "metadata": {},
   "outputs": [
    {
     "name": "stdout",
     "output_type": "stream",
     "text": [
      "\n",
      " Significance Test:\n",
      "\n",
      "Ttest_indResult(statistic=-2.709480955176514, pvalue=0.00680202065892289)\n"
     ]
    }
   ],
   "source": [
    "comm_bldg_actvs_htlhimprvadvcy_ME_Urban=dfJoin_ME_Urban['comm_bldg_actvs_htlhimprvadvcy']  \n",
    "comm_bldg_actvs_htlhimprvadvcy_NY_Urban=dfJoin_NY_Urban['comm_bldg_actvs_htlhimprvadvcy']\n",
    "\n",
    "res7 = ttest_ind(comm_bldg_actvs_htlhimprvadvcy_ME_Urban, comm_bldg_actvs_htlhimprvadvcy_NY_Urban)\n",
    "print(f'\\n Significance Test:\\n')\n",
    "print(res7)"
   ]
  },
  {
   "cell_type": "markdown",
   "id": "c8c309c6-e0aa-43fb-b918-3e0c0c3b1189",
   "metadata": {},
   "source": [
    "Null hypothesis (H_0): There is no difference in Community health improvement advocacy  between states ME and NY. As we can see the  p value for this test is  SIGNIFICANT(statistic=-2.709480955176514, pvalue=0.00680202065892289), which means that we reject the null hypothesis and accept the alternative hypothesis"
   ]
  },
  {
   "cell_type": "code",
   "execution_count": 17,
   "id": "1c459240-31e0-46a4-b554-83deb7152892",
   "metadata": {},
   "outputs": [
    {
     "name": "stdout",
     "output_type": "stream",
     "text": [
      "\n",
      " Significance Test:\n",
      "\n",
      "Ttest_indResult(statistic=-8.234841616423378, pvalue=2.939705912855892e-16)\n"
     ]
    }
   ],
   "source": [
    "tot_comm_bnfts_ME=dfJoin_ME['tot_comm_bnfts']\n",
    "tot_comm_bnfts_NY=dfJoin_NY['tot_comm_bnfts']\n",
    "res8 = ttest_ind(tot_comm_bnfts_ME, tot_comm_bnfts_NY)\n",
    "print(f'\\n Significance Test:\\n')\n",
    "print(res8)"
   ]
  },
  {
   "cell_type": "markdown",
   "id": "9909f88a-56df-4270-842e-496a69fed336",
   "metadata": {},
   "source": [
    "Null hypothesis (H_0): There is no difference in tot_comm_bnfts between states ME and NY. As we can see the  p value for this test is significant(statistic=-8.234841616423378, pvalue=2.939705912855892e-16), which means that we reject the null hypothesis and accept the alternative hypothesis.\n",
    "\n",
    "Alternagtive Hypothesis (H_A or H_1): There is difference in Total community benefits between ME and NY\n"
   ]
  },
  {
   "cell_type": "code",
   "execution_count": 18,
   "id": "4ca989d1-9ebf-4add-a78b-ebc4a71dbb10",
   "metadata": {},
   "outputs": [
    {
     "name": "stdout",
     "output_type": "stream",
     "text": [
      "\n",
      " Significance Test:\n",
      "\n",
      "Ttest_indResult(statistic=-4.449522657420215, pvalue=1.0461013217956718e-05)\n"
     ]
    }
   ],
   "source": [
    "tot_comm_bnfts_ME_Rural=dfJoin_ME_Rural['tot_comm_bnfts']\n",
    "tot_comm_bnfts_NY_Rural=dfJoin_NY_Rural['tot_comm_bnfts']\n",
    "res9 = ttest_ind(tot_comm_bnfts_ME_Rural, tot_comm_bnfts_NY_Rural)\n",
    "print(f'\\n Significance Test:\\n')\n",
    "print(res9)"
   ]
  },
  {
   "cell_type": "markdown",
   "id": "cdbdf8ce-0145-4ec0-a29a-a069cd6a0b57",
   "metadata": {},
   "source": [
    "Null hypothesis (H_0): There is no difference in tot_comm_bnfts between states ME and NY. As we can see the  p value for this test is significant(statistic=-4.449522657420215, pvalue=1.0461013217956718e-05), which means that we reject the null hypothesis and accept the alternative hypothesis, \n",
    "\n",
    "Alternagtive Hypothesis (H_A or H_1): There is difference in Total community benefits between ME and NY"
   ]
  },
  {
   "cell_type": "code",
   "execution_count": 70,
   "id": "db633997-6d28-437d-a127-71f741e4eab9",
   "metadata": {},
   "outputs": [
    {
     "name": "stdout",
     "output_type": "stream",
     "text": [
      "\n",
      " Significance Test:\n",
      "\n",
      "Ttest_indResult(statistic=-5.071657976486527, pvalue=4.3448812970845927e-07)\n"
     ]
    }
   ],
   "source": [
    "tot_comm_bnfts_ME_Urban=dfJoin_ME_Urban['tot_comm_bnfts']\n",
    "tot_comm_bnfts_NY_Urban=dfJoin_NY_Urban['tot_comm_bnfts']\n",
    "res10 = ttest_ind(tot_comm_bnfts_ME_Urban, tot_comm_bnfts_NY_Urban)\n",
    "print(f'\\n Significance Test:\\n')\n",
    "print(res10)"
   ]
  },
  {
   "cell_type": "markdown",
   "id": "d5ef6743-6fd0-4feb-9187-97cecd409eda",
   "metadata": {},
   "source": [
    "Null hypothesis (H_0): There is no difference in tot_comm_bnfts between states ME and NY. As we can see the  p value for this test is significant(statistic=-5.071657976486527, pvalue=4.3448812970845927e-07), which means that we reject the null hypothesis and accept the alternative hypothesis\n",
    "\n",
    "Alternagtive Hypothesis (H_A or H_1): There is difference in Total community benefits between ME and NY"
   ]
  },
  {
   "cell_type": "markdown",
   "id": "4ec15485-7e20-45fc-878d-7486593b46e3",
   "metadata": {},
   "source": [
    "#### Question 3: What is the percentage of spend on each activity type of the overall budget? Notice we have 3 activity types (measures) between Maine and New York \n",
    "\n",
    "We calculate percentage of each of spending Community building activities, Total community benefits and Community health improvement advocacy over total revenue , below you see some calculation for these activities "
   ]
  },
  {
   "cell_type": "code",
   "execution_count": 115,
   "id": "68013dde-f55e-4b1e-baa4-88baca773e3d",
   "metadata": {},
   "outputs": [
    {
     "data": {
      "text/plain": [
       "7.663181840182556"
      ]
     },
     "execution_count": 115,
     "metadata": {},
     "output_type": "execute_result"
    }
   ],
   "source": [
    "## calculate the percentage for ME\n",
    "'tot_comm_bnfts','comm_bldg_actvs','comm_bldg_actvs_htlhimprvadvcy'\n",
    "(dfJoin_ME['tot_comm_bnfts'].sum()/dfJoin_ME['tot_revenue'].sum())*100\n",
    "# I choose tot_comm_bnfts column to sum it up and devided to sum of total revenue, we have 7.66% "
   ]
  },
  {
   "cell_type": "code",
   "execution_count": 116,
   "id": "5a911d90-5b23-4a8d-bbb3-0219c4eb6f81",
   "metadata": {},
   "outputs": [
    {
     "data": {
      "text/plain": [
       "0.05630542161730728"
      ]
     },
     "execution_count": 116,
     "metadata": {},
     "output_type": "execute_result"
    }
   ],
   "source": [
    "(dfJoin_ME['comm_bldg_actvs'].sum()/dfJoin_ME['tot_revenue'].sum())*100\n",
    "# I choose comm_bldg_actvs column to sum it up and devided to sum of total revenue, we have 0.05% "
   ]
  },
  {
   "cell_type": "code",
   "execution_count": 117,
   "id": "03532471-a513-4c3b-95ef-204703b394a8",
   "metadata": {},
   "outputs": [
    {
     "data": {
      "text/plain": [
       "0.01934286533252013"
      ]
     },
     "execution_count": 117,
     "metadata": {},
     "output_type": "execute_result"
    }
   ],
   "source": [
    "(dfJoin_ME['comm_bldg_actvs_htlhimprvadvcy'].sum()/dfJoin_ME['tot_revenue'].sum())*100\n",
    "# I choose comm_bldg_actvs_htlhimprvadvcy column to sum it up and devided to sum of total revenue, we have 0.019% "
   ]
  },
  {
   "cell_type": "code",
   "execution_count": 118,
   "id": "5feac15b-4b1d-4c6c-b08e-425b5d04052d",
   "metadata": {},
   "outputs": [
    {
     "data": {
      "text/plain": [
       "11.1475304323509"
      ]
     },
     "execution_count": 118,
     "metadata": {},
     "output_type": "execute_result"
    }
   ],
   "source": [
    "# calculate the percentage of spending for NY\n",
    "(dfJoin_NY['tot_comm_bnfts'].sum()/dfJoin_NY['tot_revenue'].sum())*100\n",
    "# I choose tot_comm_bnfts column to sum it up and devided to sum of total revenue, we have 11% "
   ]
  },
  {
   "cell_type": "code",
   "execution_count": 119,
   "id": "85d73fb8-8f47-4922-9c3b-509d6e66c587",
   "metadata": {},
   "outputs": [
    {
     "data": {
      "text/plain": [
       "0.025711128060902172"
      ]
     },
     "execution_count": 119,
     "metadata": {},
     "output_type": "execute_result"
    }
   ],
   "source": [
    "(dfJoin_NY['comm_bldg_actvs'].sum()/dfJoin_NY['tot_revenue'].sum())*100\n",
    "# I choose comm_bldg_actvs column to sum it up and devided to sum of total revenue, we have 0.025% "
   ]
  },
  {
   "cell_type": "code",
   "execution_count": 120,
   "id": "82d716fb-fc24-4672-a469-9cf5a5879e73",
   "metadata": {},
   "outputs": [
    {
     "data": {
      "text/plain": [
       "0.0050876599805515154"
      ]
     },
     "execution_count": 120,
     "metadata": {},
     "output_type": "execute_result"
    }
   ],
   "source": [
    "(dfJoin_NY['comm_bldg_actvs_htlhimprvadvcy'].sum()/dfJoin_NY['tot_revenue'].sum())*100\n",
    "# I choose comm_bldg_actvs_htlhimprvadvcy column to sum it up and devided to sum of total revenue, we have 0.005% "
   ]
  },
  {
   "cell_type": "markdown",
   "id": "866c537c-7a57-449b-8d5f-5477f487ec9c",
   "metadata": {},
   "source": [
    "#### Question 4:What is the percentage of spend on each activity type of the overall budget among both states? Same calculated % as above \n",
    "\n"
   ]
  },
  {
   "cell_type": "code",
   "execution_count": 130,
   "id": "37f0f79a-4e9a-449e-9041-3aa9c8bf7494",
   "metadata": {},
   "outputs": [
    {
     "data": {
      "image/png": "[encoded data removed]",
      "text/plain": [
       "<Figure size 432x288 with 1 Axes>"
      ]
     },
     "metadata": {
      "needs_background": "light"
     },
     "output_type": "display_data"
    }
   ],
   "source": [
    "import matplotlib.pyplot as plt\n",
    "import numpy as np\n",
    "  \n",
    "# create data\n",
    "x = np.arange(3)\n",
    "y1 = [7.663181840182556, 0.05630542161730728, 0.01934286533252013]\n",
    "y2 = [ 11.1475304323509, 0.025711128060902172,0.0050876599805515154]\n",
    "width = 0.5\n",
    "  \n",
    "# plot data in grouped manner of bar type\n",
    "plt.bar(x-0.5, y1, width, color='blue')\n",
    "plt.bar(x, y2, width, color='orange')\n",
    "plt.xticks(x, ['tot_comm_bnfts','comm_bldg_actvs','comm_bldg_actvs_htlhimprvadvcy'])\n",
    "plt.xlabel(\"Spending\")\n",
    "plt.ylabel(\"Percentage\")\n",
    "plt.legend([\"Maine\", \"New York\"])\n",
    "plt.show()"
   ]
  },
  {
   "cell_type": "raw",
   "id": "1d4a955c-fbbd-4700-8617-c2ca9f0840b0",
   "metadata": {},
   "source": [
    "# As you see, total community benefits has the highest percentage of the overall budget.And for NY is higher than maine"
   ]
  },
  {
   "cell_type": "markdown",
   "id": "6fa0cf70-26c6-46d5-ac54-35159f5f22bd",
   "metadata": {},
   "source": [
    "#### Question 5:  Is variation in the amount of spending (all three measures: community benefit, community building, and community health improvement advocacy activities ) between urban and rural hospitals significant? For NY and ME, you are comparing; calculate variance & coefficient of variation for each sample\n"
   ]
  },
  {
   "cell_type": "code",
   "execution_count": 20,
   "id": "88468b86-08d0-47f8-a6a7-030e262e60a8",
   "metadata": {},
   "outputs": [],
   "source": [
    "# We need to compute the F-test \n",
    "import scipy.stats\n",
    "\n",
    "def f_test(group1, group2):\n",
    "    f = np.var(group1, ddof=1)/np.var(group2, ddof=1)\n",
    "    x = np.array(group1)\n",
    "    y = np.array(group2)\n",
    "    nun = x.size-1\n",
    "    dun = y.size-1\n",
    "    p_value = 1-scipy.stats.f.cdf(f, nun, dun) ## Find the p value of F-test\n",
    "    return f, p_value"
   ]
  },
  {
   "cell_type": "markdown",
   "id": "6df002d8-910c-4008-b9ef-9860d518ef87",
   "metadata": {},
   "source": [
    "Calculate the variance for Maine and New York\n"
   ]
  },
  {
   "cell_type": "code",
   "execution_count": 21,
   "id": "28fc1de8-56cd-4269-97ed-ec24b50804a6",
   "metadata": {},
   "outputs": [
    {
     "name": "stdout",
     "output_type": "stream",
     "text": [
      "       tot_comm_bnfts  comm_bldg_actvs  comm_bldg_actvs_htlhimprvadvcy\n",
      "state                                                                 \n",
      "ME       8.134304e+14     1.500826e+11                    4.069325e+10\n",
      "NY       1.521695e+16     1.609377e+11                    1.752200e+10\n"
     ]
    }
   ],
   "source": [
    "values= ['NY','ME']\n",
    "dfJoin_New = dfJoin[dfJoin['state'].isin(values)]\n",
    "statistical = dfJoin_New[['state','tot_comm_bnfts','comm_bldg_actvs','comm_bldg_actvs_htlhimprvadvcy']]\n",
    "\n",
    "print(statistical.groupby('state').var())"
   ]
  },
  {
   "cell_type": "code",
   "execution_count": 22,
   "id": "85f956eb-b68f-4943-b78b-d2aa418aeacc",
   "metadata": {},
   "outputs": [],
   "source": [
    "# Define function for calucating coefficient of variation\n",
    "cv = lambda x: np.std(x, ddof=1) / np.mean(x) * 100 "
   ]
  },
  {
   "cell_type": "code",
   "execution_count": 23,
   "id": "3d7d8262-03b2-4907-bfe1-49b0a63e06c6",
   "metadata": {},
   "outputs": [
    {
     "data": {
      "text/plain": [
       "tot_comm_bnfts                    170.990180\n",
       "comm_bldg_actvs                   241.098065\n",
       "comm_bldg_actvs_htlhimprvadvcy    402.031180\n",
       "dtype: float64"
      ]
     },
     "execution_count": 23,
     "metadata": {},
     "output_type": "execute_result"
    }
   ],
   "source": [
    "values= ['NY']\n",
    "dfJoin_NYc = dfJoin[dfJoin['state'].isin(values)]\n",
    "dfJoin_NYcv = dfJoin_NYc[['tot_comm_bnfts','comm_bldg_actvs','comm_bldg_actvs_htlhimprvadvcy']]\n",
    "cv(dfJoin_NYcv)"
   ]
  },
  {
   "cell_type": "markdown",
   "id": "7515cf3b-845e-422b-bb11-87e91fd5f242",
   "metadata": {},
   "source": [
    "Coefficent variance for NY\n",
    "\n",
    "Total community benefits: 170.990180\n",
    "\n",
    "Community building activities: 241.098065\n",
    "\n",
    "Community health improvement advocacy: 402.031180"
   ]
  },
  {
   "cell_type": "code",
   "execution_count": 24,
   "id": "e9071102-0da0-4144-b910-bf61f21ea687",
   "metadata": {},
   "outputs": [
    {
     "data": {
      "text/plain": [
       "tot_comm_bnfts                    190.999644\n",
       "comm_bldg_actvs                   353.099012\n",
       "comm_bldg_actvs_htlhimprvadvcy    535.207084\n",
       "dtype: float64"
      ]
     },
     "execution_count": 24,
     "metadata": {},
     "output_type": "execute_result"
    }
   ],
   "source": [
    "values= ['ME']\n",
    "dfJoin_MEc = dfJoin[dfJoin['state'].isin(values)]\n",
    "dfJoin_MEcN = dfJoin_MEc[['tot_comm_bnfts','comm_bldg_actvs','comm_bldg_actvs_htlhimprvadvcy']]\n",
    "## Coefficent variance for ME\n",
    "cv(dfJoin_MEcN)"
   ]
  },
  {
   "cell_type": "markdown",
   "id": "a44bfc12-f919-45cf-bfd2-988e5c7fa0af",
   "metadata": {},
   "source": [
    "Coefficent variance for Maine\n",
    "\n",
    "Total community benefits: 190.999644\n",
    "\n",
    "Community building activities: 353.099012\n",
    "\n",
    "Community health improvement advocacy: 535.207084"
   ]
  },
  {
   "cell_type": "markdown",
   "id": "05b1be5d-6f09-49ff-94c0-f2f92ee94482",
   "metadata": {},
   "source": [
    "#### Conclusion: Coefficent varation of all these three meaures are higher for Maine compared to New York. "
   ]
  },
  {
   "cell_type": "code",
   "execution_count": 25,
   "id": "55635bc0-06f1-40ae-b71e-695d284c7d99",
   "metadata": {},
   "outputs": [
    {
     "data": {
      "text/plain": [
       "(tot_comm_bnfts    0.053456\n",
       " dtype: float64,\n",
       " array([1.]))"
      ]
     },
     "execution_count": 25,
     "metadata": {},
     "output_type": "execute_result"
    }
   ],
   "source": [
    "# Calculate F test\n",
    "\n",
    "values= ['NY']\n",
    "dfJoin_NY = dfJoin[dfJoin['state'].isin(values)]\n",
    "statistical = dfJoin_New[['state','tot_comm_bnfts','comm_bldg_actvs','comm_bldg_actvs_htlhimprvadvcy']]\n",
    "\n",
    "values= ['ME']\n",
    "dfJoin_ME = dfJoin[dfJoin['state'].isin(values)]\n",
    "statistical = dfJoin_New[['state','tot_comm_bnfts','comm_bldg_actvs','comm_bldg_actvs_htlhimprvadvcy']]\n",
    "\n",
    "# 1st F-test\n",
    "\n",
    "f_test(dfJoin_ME[['tot_comm_bnfts']],dfJoin_NY[['tot_comm_bnfts']])\n",
    "\n"
   ]
  },
  {
   "cell_type": "markdown",
   "id": "132270e9-700d-4eaf-8abc-659c0b151f56",
   "metadata": {},
   "source": [
    "Null hypothesis (H_0): There is no difference in total Community benefits between states ME and NY. \n",
    "As we can see the  p value for this test is not significant(f-test: 0.053456 pvalue=1.), which means that we don't reject the null hypothesis"
   ]
  },
  {
   "cell_type": "markdown",
   "id": "9f36e843-43c4-417b-a598-07dbd33a7785",
   "metadata": {},
   "source": [
    "Coefficient of variation for Total community benefits: 0.053456"
   ]
  },
  {
   "cell_type": "code",
   "execution_count": 28,
   "id": "a4260a6a-192e-4327-9ea3-676fc50f53fc",
   "metadata": {},
   "outputs": [
    {
     "data": {
      "text/plain": [
       "(comm_bldg_actvs    0.932551\n",
       " dtype: float64,\n",
       " array([0.78523817]))"
      ]
     },
     "execution_count": 28,
     "metadata": {},
     "output_type": "execute_result"
    }
   ],
   "source": [
    "# Second F test\n",
    "f_test(dfJoin_ME[['comm_bldg_actvs']],dfJoin_NY[['comm_bldg_actvs']])"
   ]
  },
  {
   "cell_type": "markdown",
   "id": "34d4110f-c988-46d8-8561-4ad2c960c36a",
   "metadata": {},
   "source": [
    "Null hypothesis (H_0): There is no difference in Community building activities between states ME and NY. \n",
    "As we can see the  p value for this test is not significant(f-test: 0.932551 pvalue=0.78523817), which means that we don't reject the null hypothesis"
   ]
  },
  {
   "cell_type": "code",
   "execution_count": 29,
   "id": "95c668c4-7b0c-466f-9b12-487614566620",
   "metadata": {},
   "outputs": [
    {
     "data": {
      "text/plain": [
       "(comm_bldg_actvs_htlhimprvadvcy    2.322409\n",
       " dtype: float64,\n",
       " array([1.11022302e-16]))"
      ]
     },
     "execution_count": 29,
     "metadata": {},
     "output_type": "execute_result"
    }
   ],
   "source": [
    "# Third F test\n",
    "f_test(dfJoin_ME[['comm_bldg_actvs_htlhimprvadvcy']],dfJoin_NY[['comm_bldg_actvs_htlhimprvadvcy']])"
   ]
  },
  {
   "cell_type": "markdown",
   "id": "fbccae9e-c545-4d91-8a19-5e7c312ccc67",
   "metadata": {},
   "source": [
    "Null hypothesis (H_0): There is no difference in Community health improvement advocacy between states ME and NY. \n",
    "As we can see the  p value for this test is significant(f-test: 2.322409 pvalue=1.11022302e-16), which means that we reject the null hypothesis, and accept the alternative hypothesis."
   ]
  },
  {
   "cell_type": "markdown",
   "id": "a1b916a1-b158-499c-a8ba-181b1db31bda",
   "metadata": {},
   "source": [
    "#### Question 6: Are the difference in the mean for those spending significant between states (comparing urban areas for each state and rural area for each state? Each measure by the urban flag needs to be  tested between the two states you are comparing (6 t-test)"
   ]
  },
  {
   "cell_type": "code",
   "execution_count": 20,
   "id": "cb07f6fa-c1d7-498e-969e-ae53acc27ee7",
   "metadata": {},
   "outputs": [],
   "source": [
    "# similiar question 2\n"
   ]
  },
  {
   "cell_type": "markdown",
   "id": "8d05746d-7f4d-4216-8c85-55a81dbc7815",
   "metadata": {},
   "source": [
    "#### Question 7: Is variation in the percentage of spending between urban and rural hospitals significant? Also, calculate the t-test for each of those measures by urban flag (4 t-tests); use those measures  comm_bldg_actvs_tot_func_exp_pct  &  comm_hlth_impr_svcs_comm_bnft_oper_tot_func_exp_pct; calculate variance & coefficient of variation for each sample."
   ]
  },
  {
   "cell_type": "code",
   "execution_count": 36,
   "id": "1cb699f8-1315-48d9-be9c-c9479a41881e",
   "metadata": {},
   "outputs": [
    {
     "data": {
      "text/plain": [
       "(comm_hlth_impr_svcs_comm_bnft_oper_tot_func_exp_pct    1.0\n",
       " dtype: float64,\n",
       " array([0.5]))"
      ]
     },
     "execution_count": 36,
     "metadata": {},
     "output_type": "execute_result"
    }
   ],
   "source": [
    "## Compute F test\n",
    "f_test(dfJoin_NY_Rural[['comm_bldg_actvs_tot_func_exp_pct']],dfJoin_NY_Urban[['comm_bldg_actvs_tot_func_exp_pct']])"
   ]
  },
  {
   "cell_type": "markdown",
   "id": "6071dfce-e28c-4faf-9265-19de46a401c5",
   "metadata": {},
   "source": [
    "Null hypothesis (H_0): There is no difference in Community building activities as % of total functional expenses between Urban and Rural in New York. \n",
    "As we can see the  p value for this test is not significant(f-test: 1.0 pvalue=0.5), which means that we don't reject the null hypothesis"
   ]
  },
  {
   "cell_type": "code",
   "execution_count": 71,
   "id": "ed1c9fc1-6fad-4ddc-854f-57b6438d8878",
   "metadata": {},
   "outputs": [
    {
     "data": {
      "text/plain": [
       "(comm_hlth_impr_svcs_comm_bnft_oper_tot_func_exp_pct    0.367892\n",
       " dtype: float64,\n",
       " array([1.]))"
      ]
     },
     "execution_count": 71,
     "metadata": {},
     "output_type": "execute_result"
    }
   ],
   "source": [
    "f_test(dfJoin_NY_Rural[['comm_hlth_impr_svcs_comm_bnft_oper_tot_func_exp_pct']],dfJoin_NY_Urban[['comm_hlth_impr_svcs_comm_bnft_oper_tot_func_exp_pct']])"
   ]
  },
  {
   "cell_type": "markdown",
   "id": "3b488a9b-69d5-4ecc-aacd-b3f144b010d9",
   "metadata": {},
   "source": [
    "Null hypothesis (H_0): There is no difference in Community health improvement services and community benefit operations as % of total functional expenses between Urban and Rural in New York. \n",
    "As we can see the  p value for this f- test is not significant(f-test: 0.367892 pvalue=1.), which means that we don't reject the null hypothesis"
   ]
  },
  {
   "cell_type": "code",
   "execution_count": 74,
   "id": "5e193b46-08b6-4d8b-99bf-0266394872c8",
   "metadata": {},
   "outputs": [
    {
     "name": "stdout",
     "output_type": "stream",
     "text": [
      "\n",
      " Significance Test:\n",
      "\n",
      "Ttest_indResult(statistic=array([1.44574932]), pvalue=array([0.1488287]))\n"
     ]
    }
   ],
   "source": [
    "# First T-test\n",
    "\n",
    "res11 = ttest_ind(dfJoin_NY_Rural[['comm_bldg_actvs_tot_func_exp_pct']], dfJoin_ME_Rural[['comm_bldg_actvs_tot_func_exp_pct']])\n",
    "print(f'\\n Significance Test:\\n')\n",
    "print(res11)"
   ]
  },
  {
   "cell_type": "markdown",
   "id": "dbdd57b2-ecde-4167-9cbc-e29403eb4499",
   "metadata": {},
   "source": [
    "Null hypothesis (H_0): There is no difference in Community building activities as % of total functional expenses between New York and Maine in Rural area. \n",
    "As we can see the  p value for this t-test is not significant(statistic=1.44574932, pvalue=0.1488287), which means that we don't reject the null hypothesis"
   ]
  },
  {
   "cell_type": "code",
   "execution_count": 77,
   "id": "9886a771-841c-499d-9e7e-d73ad4cf46fc",
   "metadata": {},
   "outputs": [
    {
     "name": "stdout",
     "output_type": "stream",
     "text": [
      "\n",
      " Significance Test:\n",
      "\n",
      "Ttest_indResult(statistic=array([1.15864477]), pvalue=array([0.24675293]))\n"
     ]
    }
   ],
   "source": [
    "# Second T-test\n",
    "res12 = ttest_ind(dfJoin_NY_Urban[['comm_bldg_actvs_tot_func_exp_pct']], dfJoin_ME_Urban[['comm_bldg_actvs_tot_func_exp_pct']])\n",
    "print(f'\\n Significance Test:\\n')\n",
    "print(res12)"
   ]
  },
  {
   "cell_type": "markdown",
   "id": "e593357e-c110-41fb-acba-10d47d3d1360",
   "metadata": {},
   "source": [
    "Null hypothesis (H_0): There is no difference in Community building activities as % of total functional expenses between New York and Maine in Urban area. \n",
    "As we can see the  p value for this t-test is not significant(statistic=1.15864477, pvalue=0.24675293), which means that we don't reject the null hypothesis "
   ]
  },
  {
   "cell_type": "code",
   "execution_count": 76,
   "id": "fd43ebdd-0927-4a6c-b21b-44788287d18a",
   "metadata": {},
   "outputs": [
    {
     "name": "stdout",
     "output_type": "stream",
     "text": [
      "\n",
      " Significance Test:\n",
      "\n",
      "Ttest_indResult(statistic=array([2.20077099]), pvalue=array([0.02787736]))\n"
     ]
    }
   ],
   "source": [
    "# Third T-test\n",
    "res13 = ttest_ind(dfJoin_NY_Urban[['comm_hlth_impr_svcs_comm_bnft_oper_tot_func_exp_pct']], dfJoin_ME_Urban[['comm_hlth_impr_svcs_comm_bnft_oper_tot_func_exp_pct']])\n",
    "print(f'\\n Significance Test:\\n')\n",
    "print(res13)"
   ]
  },
  {
   "cell_type": "markdown",
   "id": "5d8c7ae4-57d7-4955-b25e-a0bf7c413556",
   "metadata": {},
   "source": [
    "Null hypothesis (H_0): There is no difference in Community health improvement services and community benefit operations as % of total functional expenses between New York and Maine in Urban area. \n",
    "As we can see the  p value for this t-test is significant(statistic=2.20077099, pvalue=0.02787736), which means that we reject the null hypothesis and accept the alternative hypothesis"
   ]
  },
  {
   "cell_type": "code",
   "execution_count": 85,
   "id": "f9f0b70e-b815-444f-9576-83ea3aaef73a",
   "metadata": {},
   "outputs": [
    {
     "name": "stdout",
     "output_type": "stream",
     "text": [
      "\n",
      " Significance Test:\n",
      "\n",
      "Ttest_indResult(statistic=array([-1.18419595]), pvalue=array([0.23685744]))\n"
     ]
    }
   ],
   "source": [
    "# Fourth T-test\n",
    "res14 = ttest_ind(dfJoin_NY_Rural[['comm_hlth_impr_svcs_comm_bnft_oper_tot_func_exp_pct']], dfJoin_ME_Rural[['comm_hlth_impr_svcs_comm_bnft_oper_tot_func_exp_pct']])\n",
    "print(f'\\n Significance Test:\\n')\n",
    "print(res14)"
   ]
  },
  {
   "cell_type": "markdown",
   "id": "84fa0b80-0c6c-4911-a918-7982cee9e482",
   "metadata": {},
   "source": [
    "Null hypothesis (H_0): There is no difference in Community health improvement services and community benefit operations as % of total functional expenses between New York and Maine in Rural area. \n",
    "As we can see the  p value for this t-test is significant(statistic=-1.18419595, pvalue=0.23685744), which means that we reject the null hypothesis and accept the alternative hypothesis"
   ]
  },
  {
   "cell_type": "code",
   "execution_count": 39,
   "id": "da87b260-aca1-4877-b217-6a4c411e8559",
   "metadata": {},
   "outputs": [
    {
     "name": "stdout",
     "output_type": "stream",
     "text": [
      "       comm_bldg_actvs_tot_func_exp_pct  \\\n",
      "state                                     \n",
      "ME                             0.007848   \n",
      "NY                             0.048139   \n",
      "\n",
      "       comm_hlth_impr_svcs_comm_bnft_oper_tot_func_exp_pct  \n",
      "state                                                       \n",
      "ME                                              0.123058    \n",
      "NY                                              0.506939    \n"
     ]
    }
   ],
   "source": [
    "## Calculate variance and coffiecnet variance for each meatures\n",
    "### Calculate the variance for each these two states that we are comparing \n",
    "\n",
    "values= ['NY','ME']\n",
    "dfJoin_New = dfJoin[dfJoin['state'].isin(values)]\n",
    "statistical = dfJoin_New[['state','comm_bldg_actvs_tot_func_exp_pct','comm_hlth_impr_svcs_comm_bnft_oper_tot_func_exp_pct']]\n",
    "\n",
    "print(statistical.groupby('state').var())"
   ]
  },
  {
   "cell_type": "markdown",
   "id": "65b63065-1c5d-4f63-a0de-1c3d1f67733f",
   "metadata": {},
   "source": [
    "Conclusion: Both Community building activities as % of total functional expenses and\n",
    "Community health improvement services and community benefit operations as % of total functional expenses in New York are higher than Maine\n"
   ]
  },
  {
   "cell_type": "code",
   "execution_count": 48,
   "id": "a147ddd1-cee8-4f6e-835f-e2ae922fac91",
   "metadata": {},
   "outputs": [],
   "source": [
    "## Calculate coffiecent variance for each:\n",
    "\n",
    "# Define function for calucating coefficent variance\n",
    "#define function to calculate cv\n",
    "cv = lambda x: np.std(x, ddof=1) / np.mean(x) * 100 "
   ]
  },
  {
   "cell_type": "code",
   "execution_count": 84,
   "id": "77f46b99-7423-4381-930a-2e5aadfe2666",
   "metadata": {},
   "outputs": [
    {
     "data": {
      "text/plain": [
       "comm_bldg_actvs_tot_func_exp_pct                       372.134418\n",
       "comm_bldg_actvs                                        241.098065\n",
       "comm_hlth_impr_svcs_comm_bnft_oper_tot_func_exp_pct    218.150068\n",
       "dtype: float64"
      ]
     },
     "execution_count": 84,
     "metadata": {},
     "output_type": "execute_result"
    }
   ],
   "source": [
    "values= ['NY']\n",
    "dfJoin_NYc = dfJoin[dfJoin['state'].isin(values)]\n",
    "dfJoin_NYcN = dfJoin_NYc[['comm_bldg_actvs_tot_func_exp_pct','comm_bldg_actvs','comm_hlth_impr_svcs_comm_bnft_oper_tot_func_exp_pct']]\n",
    "## Coefficent variance for NY\n",
    "cv(dfJoin_NYcN)"
   ]
  },
  {
   "cell_type": "markdown",
   "id": "50e8bd6a-dfcb-4f82-b0ab-8c4f753a4e72",
   "metadata": {},
   "source": [
    "Coefficent variance for NY\n",
    "\n",
    "Community building activities as % of total functional expenses:  372.134418\n",
    "\n",
    "Community building activities: 241.098065\n",
    "\n",
    "Community health improvement services and community benefit operations as % of total functional expenses: 218.150068"
   ]
  },
  {
   "cell_type": "code",
   "execution_count": 79,
   "id": "aebd69bc-fc56-42ab-8471-6c4fcde6d938",
   "metadata": {},
   "outputs": [
    {
     "data": {
      "text/plain": [
       "comm_bldg_actvs_tot_func_exp_pct                       261.898138\n",
       "comm_bldg_actvs                                        353.099012\n",
       "comm_hlth_impr_svcs_comm_bnft_oper_tot_func_exp_pct    146.032222\n",
       "dtype: float64"
      ]
     },
     "execution_count": 79,
     "metadata": {},
     "output_type": "execute_result"
    }
   ],
   "source": [
    "values= ['ME']\n",
    "dfJoin_MEc = dfJoin[dfJoin['state'].isin(values)]\n",
    "dfJoin_MEcN = dfJoin_MEc[['comm_bldg_actvs_tot_func_exp_pct','comm_bldg_actvs','comm_hlth_impr_svcs_comm_bnft_oper_tot_func_exp_pct']]\n",
    "## Coefficent variance for ME\n",
    "cv(dfJoin_MEcN)"
   ]
  },
  {
   "cell_type": "markdown",
   "id": "dd35563d-95c2-49e8-8955-7ec70b605894",
   "metadata": {},
   "source": [
    "Coefficent variance for ME\n",
    "\n",
    "Community building activities as % of total functional expenses:  261.898138\n",
    "\n",
    "Community building activities: 353.099012\n",
    "\n",
    "Community health improvement services and community benefit operations as % of total functional expenses: 146.032222\n",
    "\n",
    "Conclusion : Coefficent varation of Community building activities as % of total functional expenses and Community health improvement services and community benefit operations as % of total functional expenses in New York is higher than Maine \n",
    "Community building activities in Maine is higher than New York\n"
   ]
  },
  {
   "cell_type": "markdown",
   "id": "39f6d371-1f45-47a2-92a3-81e9a6f0da7b",
   "metadata": {},
   "source": [
    "#### Question 8: Is variation in the Ratio of Patient Care to Non-patient Care Community Benefits between Maine and  other states (the one you are assigned for) significant by the rural flag? Calculate t-test (4)  rat_pat_care_npat_care_comm_bnfts; calculate variance & coefficient of variation for each sample"
   ]
  },
  {
   "cell_type": "code",
   "execution_count": 89,
   "id": "959db539-e22d-4354-89fe-29b39a5221fd",
   "metadata": {},
   "outputs": [
    {
     "data": {
      "text/plain": [
       "(2.369407522592025, 2.3427926265640053e-12)"
      ]
     },
     "execution_count": 89,
     "metadata": {},
     "output_type": "execute_result"
    }
   ],
   "source": [
    "values= ['ME']\n",
    "dfJoin_ME = dfJoin[dfJoin['state'].isin(values)]\n",
    "dfJoin_ME\n",
    "\n",
    "\n",
    "values= ['NY']\n",
    "dfJoin_NY = dfJoin[dfJoin['state'].isin(values)]\n",
    "dfJoin_NY\n",
    "\n",
    "## All the other states: Remove Maine\n",
    "data_with_index = dfJoin.set_index(\"state\")\n",
    "dfJoin_otherstates= data_with_index.drop(\"ME\")\n",
    "\n",
    "## Get only rural data for ME and other states:\n",
    "location = ['N']\n",
    "dfJoin_ME_rural = dfJoin_ME[dfJoin_ME['urban_location_f'].isin(location)]\n",
    "\n",
    "dfJoin_NY_rural = dfJoin_NY[dfJoin_NY['urban_location_f'].isin(location)]\n",
    "\n",
    "#dfJoin_otherstates_rural = dfJoin_otherstates[dfJoin_otherstates['urban_location_f'].isin(location)]\n",
    "\n",
    "\n",
    "## Calculate the F-test\n",
    "\n",
    "f_test(dfJoin_ME_rural['rat_pat_care_npat_care_comm_bnfts'],dfJoin_NY_rural['rat_pat_care_npat_care_comm_bnfts'])"
   ]
  },
  {
   "cell_type": "markdown",
   "id": "c5b404f5-451d-4928-bda9-292e92ed6dab",
   "metadata": {},
   "source": [
    "Null hypothesis (H_0): There is no difference in Ratio of Patient Care to Non-patient Care Community Benefits between New York and Maine in Rural area. \n",
    "As we can see the  p value for this f-test is not significant(statistic=2.369407522592025, pvalue=2.3427926265640053e-12), which means that we don't reject the null hypothesis"
   ]
  },
  {
   "cell_type": "code",
   "execution_count": 100,
   "id": "3b371afb-9bf7-4d8f-b84c-adc9e6d84845",
   "metadata": {},
   "outputs": [
    {
     "name": "stdout",
     "output_type": "stream",
     "text": [
      "\n",
      " Significance Test:\n",
      "\n",
      "Ttest_indResult(statistic=array([0.84445317]), pvalue=array([0.39881451]))\n"
     ]
    }
   ],
   "source": [
    "# T-test\n",
    "res15 = ttest_ind(dfJoin_NY_Rural[['rat_pat_care_npat_care_comm_bnfts']].dropna(), dfJoin_ME_Rural[['rat_pat_care_npat_care_comm_bnfts']].dropna())\n",
    "print(f'\\n Significance Test:\\n')\n",
    "print(res15)\n"
   ]
  },
  {
   "cell_type": "markdown",
   "id": "df86570d-ba0c-4fb6-ba76-d16ec2e88710",
   "metadata": {},
   "source": [
    "Null hypothesis (H_0): There is no difference in Ratio of Patient Care to Non-patient Care Community Benefits between New York and Maine in Rural area. \n",
    "As we can see the  p value for this t-test is not significant(statistic=0.84445317, pvalue=0.39881451), which means that we don't reject the null hypothesis"
   ]
  },
  {
   "cell_type": "code",
   "execution_count": 92,
   "id": "81912c7f-e61a-44ee-9d88-1c019f045d50",
   "metadata": {},
   "outputs": [
    {
     "data": {
      "text/plain": [
       "rat_pat_care_npat_care_comm_bnfts    1390.759403\n",
       "dtype: float64"
      ]
     },
     "execution_count": 92,
     "metadata": {},
     "output_type": "execute_result"
    }
   ],
   "source": [
    "## Coefficeint variance:\n",
    "\n",
    "values= ['NY']\n",
    "dfJoin_NYc = dfJoin[dfJoin['state'].isin(values)]\n",
    "dfJoin_NYcN = dfJoin_NYc[['rat_pat_care_npat_care_comm_bnfts']]\n",
    "## Coefficent variance for NY\n",
    "cv(dfJoin_NYcN)"
   ]
  },
  {
   "cell_type": "markdown",
   "id": "0d6c0f17-6172-448b-9821-54869222390c",
   "metadata": {},
   "source": [
    "Coefficent variance of Ratio of Patient Care to Non-patient Care Community Benefits for New York:  1390.759403"
   ]
  },
  {
   "cell_type": "code",
   "execution_count": 93,
   "id": "1ffdad8e-a790-4674-8674-f230ff4cfbed",
   "metadata": {},
   "outputs": [
    {
     "data": {
      "text/plain": [
       "rat_pat_care_npat_care_comm_bnfts    382.338639\n",
       "dtype: float64"
      ]
     },
     "execution_count": 93,
     "metadata": {},
     "output_type": "execute_result"
    }
   ],
   "source": [
    "## Calculate the coefficent variance for NY rural\n",
    "\n",
    "cv(dfJoin_NY_Rural[['rat_pat_care_npat_care_comm_bnfts']])"
   ]
  },
  {
   "cell_type": "markdown",
   "id": "d077f2e2-b182-4d3e-a036-5d24203fed85",
   "metadata": {},
   "source": [
    "Coefficent variance of Ratio of Patient Care to Non-patient Care Community Benefits for New York rural area : 382.338639"
   ]
  },
  {
   "cell_type": "code",
   "execution_count": 96,
   "id": "19485c7b-1592-4750-85db-732135030dbb",
   "metadata": {},
   "outputs": [
    {
     "data": {
      "text/plain": [
       "rat_pat_care_npat_care_comm_bnfts    926.799964\n",
       "dtype: float64"
      ]
     },
     "execution_count": 96,
     "metadata": {},
     "output_type": "execute_result"
    }
   ],
   "source": [
    "## Calculate the coefficent variance for ME rural\n",
    "cv(dfJoin_ME_Rural[['rat_pat_care_npat_care_comm_bnfts']])"
   ]
  },
  {
   "cell_type": "markdown",
   "id": "c9983fe3-5e6e-4a8b-8752-12855bc5dc64",
   "metadata": {},
   "source": [
    "Coefficent variance of Ratio of Patient Care to Non-patient Care Community Benefits for Maine rural area : 926.799964\n",
    "\n",
    "Conclusion: Ratio of Patient Care to Non-patient Care Community Benefits for rural area in Maine is higher than New York "
   ]
  },
  {
   "cell_type": "code",
   "execution_count": 97,
   "id": "99196f7a-2754-4087-9132-10a0ebdb47d8",
   "metadata": {},
   "outputs": [
    {
     "name": "stdout",
     "output_type": "stream",
     "text": [
      "       rat_pat_care_npat_care_comm_bnfts\n",
      "state                                   \n",
      "ME                         139166.634818\n",
      "NY                         384978.619889\n"
     ]
    }
   ],
   "source": [
    "## Calculate the variance:\n",
    "\n",
    "values= ['NY','ME']\n",
    "dfJoin_New = dfJoin[dfJoin['state'].isin(values)]\n",
    "statistical = dfJoin_New[['state','rat_pat_care_npat_care_comm_bnfts']]\n",
    "\n",
    "print(statistical.groupby('state').var())"
   ]
  },
  {
   "cell_type": "code",
   "execution_count": null,
   "id": "9c90304e-3182-4240-b2dd-38932468ac80",
   "metadata": {},
   "outputs": [],
   "source": []
  },
  {
   "cell_type": "markdown",
   "id": "4389fdbc-799e-40a7-b1b3-9d3b8d7b18fe",
   "metadata": {},
   "source": [
    "#### Question 9: Is variation in the amount of total revenue between Maine and other states  (the one you are assigned for)  significant? Calculate t-test (1);total and also by rural flag (so a total of 3 t-tests); calculate variance & coefficient of variation for each sample.\n"
   ]
  },
  {
   "cell_type": "code",
   "execution_count": 42,
   "id": "5ba49883-facd-48e5-9da6-31b81d125113",
   "metadata": {},
   "outputs": [
    {
     "data": {
      "text/plain": [
       "(0.1147592873033259, 1.0)"
      ]
     },
     "execution_count": 42,
     "metadata": {},
     "output_type": "execute_result"
    }
   ],
   "source": [
    "## Compute F-test:\n",
    "f_test(dfJoin_ME['tot_revenue'],dfJoin_NY['tot_revenue'])"
   ]
  },
  {
   "cell_type": "markdown",
   "id": "e7ee34b8-bde7-415a-b3d6-08b43efea87e",
   "metadata": {},
   "source": [
    "Null hypothesis (H_0): There is no difference in Total Revenue between New York and Maine  \n",
    "As we can see the  p value for this f-test is not significant(statistic=0.1147592873033259, pvalue=1.0), which means that we don't reject the null hypothesis"
   ]
  },
  {
   "cell_type": "code",
   "execution_count": 59,
   "id": "ad1d74d9-5c43-4994-8fb7-152a927523d1",
   "metadata": {},
   "outputs": [
    {
     "data": {
      "text/plain": [
       "(0.1147592873033259, 1.0)"
      ]
     },
     "execution_count": 59,
     "metadata": {},
     "output_type": "execute_result"
    }
   ],
   "source": [
    "## T test total\n",
    "f_test(dfJoin_ME['tot_revenue'],dfJoin_NY['tot_revenue'])"
   ]
  },
  {
   "cell_type": "markdown",
   "id": "f582fb3f-b906-494b-a371-0a51fef9caa7",
   "metadata": {},
   "source": [
    "Null hypothesis (H_0): There is no difference in Total Revenue between New York and Maine  \n",
    "As we can see the  p value for this t-test is not significant(statistic=0.1147592873033259, pvalue=1.0), which means that we don't reject the null hypothesis"
   ]
  },
  {
   "cell_type": "code",
   "execution_count": 43,
   "id": "0701e63c-f8a9-4e7a-85bf-e831d465eb36",
   "metadata": {},
   "outputs": [
    {
     "name": "stdout",
     "output_type": "stream",
     "text": [
      "\n",
      " Significance Test:\n",
      "\n",
      "Ttest_indResult(statistic=-8.455806851612335, pvalue=4.78114933920154e-17)\n"
     ]
    }
   ],
   "source": [
    "## first T test(Total)\n",
    "res16 = ttest_ind(dfJoin_ME['tot_revenue'],dfJoin_NY['tot_revenue'])\n",
    "print(f'\\n Significance Test:\\n')\n",
    "print(res16)"
   ]
  },
  {
   "cell_type": "markdown",
   "id": "b99314fe-7182-4dd5-b596-9695c9040e8c",
   "metadata": {},
   "source": [
    "Null hypothesis (H_0): There is no difference in Total Revenue between New York and Maine  \n",
    "As we can see the  p value for this t-test is significant(statistic=-8.455806851612335, pvalue=4.78114933920154e-17), which means that we reject the null hypothesis"
   ]
  },
  {
   "cell_type": "code",
   "execution_count": 44,
   "id": "b83c7868-db75-45e1-97ba-9ec7f5c2dd45",
   "metadata": {},
   "outputs": [
    {
     "name": "stdout",
     "output_type": "stream",
     "text": [
      "\n",
      " Significance Test:\n",
      "\n",
      "Ttest_indResult(statistic=-3.9936929032724606, pvalue=7.408240103650044e-05)\n"
     ]
    }
   ],
   "source": [
    "## Second T test(rural)\n",
    "\n",
    "res17 = ttest_ind(dfJoin_ME_rural['tot_revenue'],dfJoin_NY_rural['tot_revenue'])\n",
    "print(f'\\n Significance Test:\\n')\n",
    "print(res17)"
   ]
  },
  {
   "cell_type": "markdown",
   "id": "d2f4bd9b-3a8c-4229-a2e8-cadbfe29d72a",
   "metadata": {},
   "source": [
    "Null hypothesis (H_0): There is no difference in Total Revenue between New York and Maine in Rural area \n",
    "As we can see the  p value for this t-test is significant(statistic=-3.9936929032724606, pvalue=7.408240103650044e-05), which means that we reject the null hypothesis"
   ]
  },
  {
   "cell_type": "code",
   "execution_count": 60,
   "id": "030ade5a-8764-4094-a06c-efd3d92b525c",
   "metadata": {},
   "outputs": [
    {
     "name": "stdout",
     "output_type": "stream",
     "text": [
      "\n",
      " Significance Test:\n",
      "\n",
      "Ttest_indResult(statistic=-4.717562784079911, pvalue=2.5687125994454044e-06)\n"
     ]
    }
   ],
   "source": [
    "## Third T test(Urban)\n",
    "\n",
    "res18 = ttest_ind(dfJoin_ME_Urban['tot_revenue'],dfJoin_NY_Urban['tot_revenue'])\n",
    "print(f'\\n Significance Test:\\n')\n",
    "print(res18)"
   ]
  },
  {
   "cell_type": "markdown",
   "id": "316e5311-0773-45f2-8115-4fa73c270408",
   "metadata": {},
   "source": [
    "Null hypothesis (H_0): There is no difference in Total Revenue between New York and Maine in Rural area \n",
    "As we can see the  p value for this t-test is significant(statistic=-4.717562784079911, pvalue=2.5687125994454044e-06), which means that we reject the null hypothesis"
   ]
  },
  {
   "cell_type": "code",
   "execution_count": 55,
   "id": "02063da5-b76a-4102-acc2-7ea19c1e5b1b",
   "metadata": {},
   "outputs": [
    {
     "name": "stdout",
     "output_type": "stream",
     "text": [
      "        tot_revenue\n",
      "state              \n",
      "ME     3.202415e+08\n",
      "NY     9.453306e+08\n"
     ]
    }
   ],
   "source": [
    "## Calculate the variance:\n",
    "\n",
    "values= ['NY','ME']\n",
    "dfJoin_New = dfJoin[dfJoin['state'].isin(values)]\n",
    "statistical = dfJoin_New[['state','tot_revenue']]\n",
    "\n",
    "print(statistical.groupby('state').var())"
   ]
  },
  {
   "cell_type": "code",
   "execution_count": 56,
   "id": "f65a9e40-94c9-4265-a16b-821e523016d3",
   "metadata": {},
   "outputs": [
    {
     "data": {
      "text/plain": [
       "tot_revenue    164.345987\n",
       "dtype: float64"
      ]
     },
     "execution_count": 56,
     "metadata": {},
     "output_type": "execute_result"
    }
   ],
   "source": [
    "## Coefficient of variance for ME\n",
    "cv(dfJoin_ME[['tot_revenue']])"
   ]
  },
  {
   "cell_type": "code",
   "execution_count": 57,
   "id": "e097fb9e-8473-4470-b936-574036a94b82",
   "metadata": {},
   "outputs": [
    {
     "data": {
      "text/plain": [
       "tot_revenue    146.072918\n",
       "dtype: float64"
      ]
     },
     "execution_count": 57,
     "metadata": {},
     "output_type": "execute_result"
    }
   ],
   "source": [
    "## Coefficient of variance for NY\n",
    "\n",
    "cv(dfJoin_NY[['tot_revenue']])"
   ]
  },
  {
   "cell_type": "markdown",
   "id": "96f96a65-9e35-42f3-b1a9-168e8c431b82",
   "metadata": {},
   "source": [
    "Conclusion: Coefficient of variance  of Total Revenue in Maine higher than New York "
   ]
  },
  {
   "cell_type": "markdown",
   "id": "2678c58e-d179-4303-b5bf-1f3057209c3a",
   "metadata": {},
   "source": [
    "#### Question 10: Is variation in the amount of Unreimbursed costs between Maine and New York significant? Calculate t-test (1); total and also by rural flag (so a total of 3 t-tests); calculate variance & coefficient of variation for each sample."
   ]
  },
  {
   "cell_type": "code",
   "execution_count": 61,
   "id": "b693f41c-15c4-4558-9560-6faf68a0a8e4",
   "metadata": {},
   "outputs": [
    {
     "data": {
      "text/plain": [
       "(0.047570999214738084, 1.0)"
      ]
     },
     "execution_count": 61,
     "metadata": {},
     "output_type": "execute_result"
    }
   ],
   "source": [
    "#calculate f-test\n",
    "f_test(dfJoin_ME['unreim_costs'],dfJoin_NY['unreim_costs'])\n"
   ]
  },
  {
   "cell_type": "markdown",
   "id": "d1a4479c-8e92-4110-b6d8-c31e5b463ba0",
   "metadata": {},
   "source": [
    "Null hypothesis (H_0): There is no difference in Unreimbursed costs between New York and Maine \n",
    "As we can see the  p value for this f-test is not significant(statistic=0.047570999214738084, pvalue=1.0), which means that we don't reject the null hypothesis"
   ]
  },
  {
   "cell_type": "code",
   "execution_count": 62,
   "id": "fcb3969a-eaad-428c-9901-37b688bde6e1",
   "metadata": {},
   "outputs": [
    {
     "name": "stdout",
     "output_type": "stream",
     "text": [
      "\n",
      " Significance Test:\n",
      "\n",
      "Ttest_indResult(statistic=-1.6260269916853853, pvalue=0.10407731238880447)\n"
     ]
    }
   ],
   "source": [
    "## first T test(Total)\n",
    "res19 = ttest_ind(dfJoin_ME['unreim_costs'],dfJoin_NY['unreim_costs'])\n",
    "print(f'\\n Significance Test:\\n')\n",
    "print(res19)"
   ]
  },
  {
   "cell_type": "markdown",
   "id": "7786c788-3877-4ce8-8e9c-6cd66bc41171",
   "metadata": {},
   "source": [
    "Null hypothesis (H_0): There is no difference in total Unreimbursed costs between New York and Maine \n",
    "As we can see the  p value for this t-test is not significant(statistic=-1.6260269916853853, pvalue=0.10407731238880447), which means that we don't reject the null hypothesis"
   ]
  },
  {
   "cell_type": "code",
   "execution_count": 61,
   "id": "52761731-b546-4936-8efb-d2fbf09ed54e",
   "metadata": {},
   "outputs": [
    {
     "name": "stdout",
     "output_type": "stream",
     "text": [
      "\n",
      " Significance Test:\n",
      "\n",
      "Ttest_indResult(statistic=-2.4413740951399654, pvalue=0.01495210552819703)\n"
     ]
    }
   ],
   "source": [
    "## Second T test(rural)\n",
    "\n",
    "res20 = ttest_ind(dfJoin_ME_rural['unreim_costs'],dfJoin_NY_rural['unreim_costs'])\n",
    "print(f'\\n Significance Test:\\n')\n",
    "print(res20)"
   ]
  },
  {
   "cell_type": "markdown",
   "id": "5dfbf802-3a3f-467a-bf78-ae2bc771e92a",
   "metadata": {},
   "source": [
    "Null hypothesis (H_0): There is no difference in total Unreimbursed costs between New York and Maine in rural area\n",
    "As we can see the  p value for this t-test is significant(statistic=-2.4413740951399654, pvalue=0.01495210552819703), which means that we reject the null hypothesis"
   ]
  },
  {
   "cell_type": "code",
   "execution_count": 62,
   "id": "b530a39a-2ee3-4a22-b08d-73447ca786e1",
   "metadata": {},
   "outputs": [
    {
     "name": "stdout",
     "output_type": "stream",
     "text": [
      "\n",
      " Significance Test:\n",
      "\n",
      "Ttest_indResult(statistic=-0.8144437195389859, pvalue=0.41549729368389543)\n"
     ]
    }
   ],
   "source": [
    "## Third T test(Urban)\n",
    "\n",
    "res21 = ttest_ind(dfJoin_ME_Urban['unreim_costs'],dfJoin_NY_Urban['unreim_costs'])\n",
    "print(f'\\n Significance Test:\\n')\n",
    "print(res21)"
   ]
  },
  {
   "cell_type": "markdown",
   "id": "bdfc41a3-770c-480e-a444-4a776d39f40a",
   "metadata": {},
   "source": [
    "Null hypothesis (H_0): There is no difference in total Unreimbursed costs between New York and Maine in urban area\n",
    "As we can see the  p value for this t-test is not significant(statistic=-0.8144437195389859, pvalue=0.41549729368389543), which means that we don't reject the null hypothesis"
   ]
  },
  {
   "cell_type": "code",
   "execution_count": 63,
   "id": "5b46082a-7efd-44b5-80ee-02a3affe01e8",
   "metadata": {},
   "outputs": [
    {
     "name": "stdout",
     "output_type": "stream",
     "text": [
      "       unreim_costs\n",
      "state              \n",
      "ME     4.196142e+11\n",
      "NY     8.820799e+12\n"
     ]
    }
   ],
   "source": [
    "## Calculate the variance: \n",
    "\n",
    "values= ['NY','ME']\n",
    "dfJoin_New = dfJoin[dfJoin['state'].isin(values)]\n",
    "statistical = dfJoin_New[['state','unreim_costs']]\n",
    "\n",
    "print(statistical.groupby('state').var())"
   ]
  },
  {
   "cell_type": "code",
   "execution_count": 64,
   "id": "3d4f59c2-dfdb-44f1-befb-d2017d7c6dad",
   "metadata": {},
   "outputs": [
    {
     "data": {
      "text/plain": [
       "unreim_costs    540.040079\n",
       "dtype: float64"
      ]
     },
     "execution_count": 64,
     "metadata": {},
     "output_type": "execute_result"
    }
   ],
   "source": [
    "cv(dfJoin_ME[['unreim_costs']])"
   ]
  },
  {
   "cell_type": "code",
   "execution_count": 65,
   "id": "2b214dae-379f-4006-be80-1d64cc7cf0d1",
   "metadata": {},
   "outputs": [
    {
     "data": {
      "text/plain": [
       "unreim_costs    758.021756\n",
       "dtype: float64"
      ]
     },
     "execution_count": 65,
     "metadata": {},
     "output_type": "execute_result"
    }
   ],
   "source": [
    "cv(dfJoin_NY[['unreim_costs']])"
   ]
  },
  {
   "cell_type": "markdown",
   "id": "f960bd77-d917-47d6-93f1-9758bf38bba7",
   "metadata": {},
   "source": [
    "Conclusion: the coefficient of variance of Unreimbursed costs in New York is higher Maine"
   ]
  },
  {
   "cell_type": "code",
   "execution_count": null,
   "id": "7485338e-b6d5-4b64-a7bd-0e1f4206f019",
   "metadata": {},
   "outputs": [],
   "source": []
  }
 ],
 "metadata": {
  "kernelspec": {
   "display_name": "Python 3 (ipykernel)",
   "language": "python",
   "name": "python3"
  },
  "language_info": {
   "codemirror_mode": {
    "name": "ipython",
    "version": 3
   },
   "file_extension": ".py",
   "mimetype": "text/x-python",
   "name": "python",
   "nbconvert_exporter": "python",
   "pygments_lexer": "ipython3",
   "version": "3.7.11"
  }
 },
 "nbformat": 4,
 "nbformat_minor": 5
}
